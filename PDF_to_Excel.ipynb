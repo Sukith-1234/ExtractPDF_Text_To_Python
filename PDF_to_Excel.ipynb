{
 "cells": [
  {
   "cell_type": "code",
   "execution_count": 5,
   "metadata": {},
   "outputs": [
    {
     "name": "stdout",
     "output_type": "stream",
     "text": [
      "[    Year Month Day  Hour Temperature  Pressure  Fahrenheit\n",
      "0   2013       1 1     0    -20 9965      -4.0         NaN\n",
      "1   2013       1 1     1    -24 9961     -11.2         NaN\n",
      "2   2013       1 1     2    -22 9967      -7.6         NaN\n",
      "3   2013       1 1     3    -39 9976     -38.2         NaN\n",
      "4   2013       1 1     4    -21 9965      -5.8         NaN\n",
      "5   2013       1 1     5    -21 9966      -5.8         NaN\n",
      "6   2013       1 1     6    -18 9975      -0.4         NaN\n",
      "7   2013       1 1     7    -17 9983       1.4         NaN\n",
      "8   2013       1 1     8    -16 9977       3.2         NaN\n",
      "9   2013       1 1     9    -21 9980      -5.8         NaN\n",
      "10  2013       1 1    10    -18 9984      -0.4         NaN\n",
      "11  2013       1 1    11    -17 9976       1.4         NaN\n",
      "12  2013       1 1    12    -15 9983       5.0         NaN\n",
      "13  2013       1 1    13    -12 9982      10.4         NaN\n",
      "14  2013       1 1    14    -10 9982      14.0         NaN\n",
      "15  2013       1 1    15     -9 9981      15.8         NaN\n",
      "16  2013       1 1    16     -9 9971      15.8         NaN\n",
      "17  2013       1 1    17     -8 9978      17.6         NaN\n",
      "18  2013       1 1    18     -8 9984      17.6         NaN\n",
      "19  2013       1 1    19     -9 9984      15.8         NaN\n",
      "20  2013       1 1    20     -9 9981      15.8         NaN\n",
      "21  2013       1 1    21     -6 9984      21.2         NaN\n",
      "22  2013       1 1    22     -7 9986      19.4         NaN\n",
      "23  2013       1 1    23     -7 9991      19.4         NaN]\n"
     ]
    }
   ],
   "source": [
    "import tabula\n",
    "\n",
    "table=tabula.read_pdf('C:\\\\Users\\\\Downloads\\\\Table+and+Text.pdf',pages=1)\n",
    "print(table)\n",
    "\n",
    "table[0].to_excel(\"C:\\\\Users\\\\Downloads\\\\table_and_text_output.xlsx\",index=None)"
   ]
  },
  {
   "cell_type": "code",
   "execution_count": null,
   "metadata": {},
   "outputs": [],
   "source": []
  }
 ],
 "metadata": {
  "kernelspec": {
   "display_name": "Python 3.9.7 ('base')",
   "language": "python",
   "name": "python3"
  },
  "language_info": {
   "codemirror_mode": {
    "name": "ipython",
    "version": 3
   },
   "file_extension": ".py",
   "mimetype": "text/x-python",
   "name": "python",
   "nbconvert_exporter": "python",
   "pygments_lexer": "ipython3",
   "version": "3.9.7"
  },
  "orig_nbformat": 4,
  "vscode": {
   "interpreter": {
    "hash": "ad2bdc8ecc057115af97d19610ffacc2b4e99fae6737bb82f5d7fb13d2f2c186"
   }
  }
 },
 "nbformat": 4,
 "nbformat_minor": 2
}
